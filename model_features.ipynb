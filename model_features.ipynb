{
 "cells": [
  {
   "cell_type": "code",
   "execution_count": 166,
   "metadata": {},
   "outputs": [],
   "source": [
    "from sklearn.ensemble import RandomForestClassifier\n",
    "from xgboost import XGBClassifier\n",
    "from sklearn.svm import SVC\n",
    "from sklearn.neural_network import MLPClassifier\n",
    "import pandas as pd\n",
    "from sklearn.model_selection import train_test_split\n",
    "from sklearn.compose import ColumnTransformer\n",
    "from sklearn.pipeline import Pipeline\n",
    "from sklearn.impute import SimpleImputer\n",
    "from sklearn.preprocessing import StandardScaler, OneHotEncoder , LabelEncoder\n",
    "from sklearn.metrics import accuracy_score, precision_score, f1_score\n",
    "import seaborn as sns\n",
    "import matplotlib.pyplot as plt\n",
    "\n",
    "\n"
   ]
  },
  {
   "cell_type": "code",
   "execution_count": 167,
   "metadata": {},
   "outputs": [],
   "source": [
    "songsFeatures = pd.read_csv('musicDataModel.csv')\n",
    "songsFeatures.dropna(inplace=True)"
   ]
  },
  {
   "cell_type": "code",
   "execution_count": 168,
   "metadata": {},
   "outputs": [
    {
     "name": "stdout",
     "output_type": "stream",
     "text": [
      "genre\n",
      "indie                    1795\n",
      "rock                     1530\n",
      "pop                      1241\n",
      "electronic                753\n",
      "folk                      574\n",
      "                         ... \n",
      "powerviolence               1\n",
      "progressive deathcore       1\n",
      "nasheed                     1\n",
      "power noise                 1\n",
      "future garage               1\n",
      "Name: count, Length: 463, dtype: int64\n"
     ]
    }
   ],
   "source": [
    "class_counts = songsFeatures['genre'].value_counts()\n",
    "print(class_counts)"
   ]
  },
  {
   "cell_type": "code",
   "execution_count": 169,
   "metadata": {},
   "outputs": [
    {
     "name": "stdout",
     "output_type": "stream",
     "text": [
      "\n",
      "DataFrame filtrado:\n",
      "genre\n",
      "indie                 1795\n",
      "rock                  1530\n",
      "pop                   1241\n",
      "electronic             753\n",
      "folk                   574\n",
      "                      ... \n",
      "skate punk               3\n",
      "new jack swing           3\n",
      "minimalism               3\n",
      "witch house              3\n",
      "progressive trance       3\n",
      "Name: count, Length: 267, dtype: int64\n"
     ]
    }
   ],
   "source": [
    "# Definir un umbral\n",
    "threshold = 3\n",
    "\n",
    "# Obtener las clases que tienen más de `threshold` ejemplos\n",
    "classes_to_keep = class_counts[class_counts >= threshold].index\n",
    "\n",
    "# Filtrar el DataFrame para mantener solo las clases que están por encima del umbral\n",
    "songsFeatures_filtered = songsFeatures[songsFeatures['genre'].isin(classes_to_keep)]\n",
    "\n",
    "# Mostrar el DataFrame filtrado\n",
    "print(\"\\nDataFrame filtrado:\")\n",
    "print(songsFeatures_filtered['genre'].value_counts())\n"
   ]
  },
  {
   "cell_type": "code",
   "execution_count": 170,
   "metadata": {},
   "outputs": [],
   "source": [
    "X = songsFeatures_filtered.drop(columns = 'genre')\n",
    "y = songsFeatures_filtered['genre']"
   ]
  },
  {
   "cell_type": "code",
   "execution_count": 171,
   "metadata": {},
   "outputs": [],
   "source": [
    "label_encoder = LabelEncoder()\n",
    "y_encoded = label_encoder.fit_transform(y)  # Ajustar a todo el conjunto\n",
    "\n",
    "\n",
    "X_train, X_test, y_train, y_test = train_test_split(X, y_encoded, test_size=0.2, stratify=y_encoded, random_state=42)"
   ]
  },
  {
   "cell_type": "code",
   "execution_count": 172,
   "metadata": {},
   "outputs": [],
   "source": [
    "# Listas de columnas numéricas y categóricas\n",
    "numerical_features = [\n",
    "    'rms', 'zcr', 'tempo_x', 'onset_strength', 'mfcc_1', 'mfcc_2', 'mfcc_3',\n",
    "    'mfcc_4', 'mfcc_5', 'mfcc_6', 'mfcc_7', 'mfcc_8', 'mfcc_9', 'mfcc_10',\n",
    "    'mfcc_11', 'mfcc_12', 'mfcc_13', 'spectral_contrast_1', 'spectral_contrast_2',\n",
    "    'spectral_contrast_3', 'spectral_contrast_4', 'spectral_contrast_5',\n",
    "    'spectral_contrast_6', 'spectral_contrast_7', 'artist_pop', 'track_pop',\n",
    "    'danceability', 'energy', 'loudness', 'speechiness', 'acousticness',\n",
    "    'instrumentalness', 'liveness', 'valence', 'tempo_y', 'duration_ms'\n",
    "]\n",
    "categorical_features = ['key', 'mode', 'time_signature']\n"
   ]
  },
  {
   "cell_type": "code",
   "execution_count": 173,
   "metadata": {},
   "outputs": [],
   "source": [
    "# Preprocesadores para columnas numéricas y categóricas\n",
    "# Preprocesadores para columnas numéricas y categóricas con imputación\n",
    "numerical_transformer = Pipeline(steps=[\n",
    "    ('imputer', SimpleImputer(strategy='mean')),  # Imputación de la media para columnas numéricas\n",
    "    ('scaler', StandardScaler())  # Escalado\n",
    "])\n",
    "\n",
    "categorical_transformer = Pipeline(steps=[\n",
    "    ('imputer', SimpleImputer(strategy='most_frequent')),  # Imputación de la moda para columnas categóricas\n",
    "    ('onehot', OneHotEncoder(handle_unknown='ignore'))  # Codificación one-hot\n",
    "])\n",
    "\n",
    "# ColumnTransformer para aplicar preprocesamiento específico\n",
    "preprocessor = ColumnTransformer(\n",
    "    transformers=[\n",
    "        ('num', numerical_transformer, numerical_features),\n",
    "        ('cat', categorical_transformer, categorical_features)\n",
    "    ]\n",
    ")"
   ]
  },
  {
   "cell_type": "code",
   "execution_count": 174,
   "metadata": {},
   "outputs": [],
   "source": [
    "pipelineRF = Pipeline(steps=[\n",
    "    ('preprocessor', preprocessor),\n",
    "    ('classifier', RandomForestClassifier(n_estimators=200, random_state=42))\n",
    "])"
   ]
  },
  {
   "cell_type": "code",
   "execution_count": 175,
   "metadata": {},
   "outputs": [],
   "source": [
    "pipelineXGB = Pipeline(steps=[\n",
    "    ('preprocessor', preprocessor),\n",
    "    ('classifier', XGBClassifier(n_estimators=200, learning_rate=0.1, random_state=42))\n",
    "])"
   ]
  },
  {
   "cell_type": "code",
   "execution_count": 176,
   "metadata": {},
   "outputs": [],
   "source": [
    "\n",
    "pipelineSVC = Pipeline(steps=[\n",
    "    ('preprocessor', preprocessor),\n",
    "    ('classifier', SVC(kernel='rbf', C=10, gamma='auto', class_weight='balanced'))\n",
    "])"
   ]
  },
  {
   "cell_type": "code",
   "execution_count": 177,
   "metadata": {},
   "outputs": [],
   "source": [
    "pipelines = [\n",
    "    pipelineSVC,\n",
    "    pipelineRF,\n",
    "    pipelineXGB\n",
    "]\n",
    "model_names = ['Random Forest', 'Logistic Regression', 'SVM']\n"
   ]
  },
  {
   "cell_type": "code",
   "execution_count": 178,
   "metadata": {},
   "outputs": [
    {
     "name": "stderr",
     "output_type": "stream",
     "text": [
      "/home/linky/Proyects/Spotipy/download-data-spotify/FinalDataset/venv/lib/python3.12/site-packages/sklearn/metrics/_classification.py:1531: UndefinedMetricWarning: Precision is ill-defined and being set to 0.0 in labels with no predicted samples. Use `zero_division` parameter to control this behavior.\n",
      "  _warn_prf(average, modifier, f\"{metric.capitalize()} is\", len(result))\n",
      "/home/linky/Proyects/Spotipy/download-data-spotify/FinalDataset/venv/lib/python3.12/site-packages/sklearn/metrics/_classification.py:1531: UndefinedMetricWarning: Precision is ill-defined and being set to 0.0 in labels with no predicted samples. Use `zero_division` parameter to control this behavior.\n",
      "  _warn_prf(average, modifier, f\"{metric.capitalize()} is\", len(result))\n",
      "/home/linky/Proyects/Spotipy/download-data-spotify/FinalDataset/venv/lib/python3.12/site-packages/sklearn/metrics/_classification.py:1531: UndefinedMetricWarning: Precision is ill-defined and being set to 0.0 in labels with no predicted samples. Use `zero_division` parameter to control this behavior.\n",
      "  _warn_prf(average, modifier, f\"{metric.capitalize()} is\", len(result))\n"
     ]
    },
    {
     "data": {
      "image/png": "[encoded data removed]",
      "text/plain": [
       "<Figure size 1200x800 with 1 Axes>"
      ]
     },
     "metadata": {},
     "output_type": "display_data"
    }
   ],
   "source": [
    "# Inicializa una lista para almacenar los puntajes\n",
    "scores = []\n",
    "\n",
    "for model, name in zip(pipelines, model_names):\n",
    "    # Entrena y predice\n",
    "    model.fit(X_train, y_train)\n",
    "    y_pred = model.predict(X_test)\n",
    "    \n",
    "    accuracy = accuracy_score(y_test, y_pred)\n",
    "    precision = precision_score(y_test, y_pred, average='weighted')\n",
    "    f1 = f1_score(y_test, y_pred, average='weighted')\n",
    "    \n",
    "    scores.append({'Model': name, 'Accuracy': accuracy, 'Precision': precision, 'F1 Score': f1})\n",
    "\n",
    "# Convierte a DataFrame\n",
    "extended_results_df = pd.DataFrame(scores)\n",
    "\n",
    "# Gráficas adicionales para cada métrica\n",
    "extended_results_df.set_index('Model').plot(kind='bar', figsize=(12, 8))\n",
    "plt.title('Comparación de Métricas entre Modelos')\n",
    "plt.ylabel('Puntaje')\n",
    "plt.ylim(0, 1)\n",
    "plt.show()"
   ]
  }
 ],
 "metadata": {
  "kernelspec": {
   "display_name": "venv",
   "language": "python",
   "name": "python3"
  },
  "language_info": {
   "codemirror_mode": {
    "name": "ipython",
    "version": 3
   },
   "file_extension": ".py",
   "mimetype": "text/x-python",
   "name": "python",
   "nbconvert_exporter": "python",
   "pygments_lexer": "ipython3",
   "version": "3.12.3"
  }
 },
 "nbformat": 4,
 "nbformat_minor": 2
}
